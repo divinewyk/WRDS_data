{
 "cells": [
  {
   "cell_type": "code",
   "execution_count": 1,
   "metadata": {},
   "outputs": [],
   "source": [
    "import pandas as pd"
   ]
  },
  {
   "cell_type": "markdown",
   "metadata": {},
   "source": [
    "# 1 Read in data queries from WRDS CRSP Daily Stock dataset\n",
    "\n",
    "https://wrds-www.wharton.upenn.edu/pages/get-data/center-research-security-prices-crsp/annual-update/stock-security-files/daily-stock-file/"
   ]
  },
  {
   "cell_type": "code",
   "execution_count": 45,
   "metadata": {},
   "outputs": [],
   "source": [
    "permno_ticker_data=pd.read_csv('raw_input.csv')\n",
    "permno_ticker_data.drop(columns=['ACPERM','NWPERM'],inplace=True)"
   ]
  },
  {
   "cell_type": "code",
   "execution_count": 46,
   "metadata": {},
   "outputs": [],
   "source": [
    "permno_ticker_data['enddate']=permno_ticker_data['date']"
   ]
  },
  {
   "cell_type": "code",
   "execution_count": 47,
   "metadata": {},
   "outputs": [
    {
     "data": {
      "text/html": [
       "<div>\n",
       "<style scoped>\n",
       "    .dataframe tbody tr th:only-of-type {\n",
       "        vertical-align: middle;\n",
       "    }\n",
       "\n",
       "    .dataframe tbody tr th {\n",
       "        vertical-align: top;\n",
       "    }\n",
       "\n",
       "    .dataframe thead th {\n",
       "        text-align: right;\n",
       "    }\n",
       "</style>\n",
       "<table border=\"1\" class=\"dataframe\">\n",
       "  <thead>\n",
       "    <tr style=\"text-align: right;\">\n",
       "      <th></th>\n",
       "      <th>PERMNO</th>\n",
       "      <th>date</th>\n",
       "      <th>TICKER</th>\n",
       "      <th>enddate</th>\n",
       "    </tr>\n",
       "  </thead>\n",
       "  <tbody>\n",
       "    <tr>\n",
       "      <th>0</th>\n",
       "      <td>10104</td>\n",
       "      <td>19930104</td>\n",
       "      <td>ORCL</td>\n",
       "      <td>19930104</td>\n",
       "    </tr>\n",
       "    <tr>\n",
       "      <th>1</th>\n",
       "      <td>10104</td>\n",
       "      <td>19930105</td>\n",
       "      <td>ORCL</td>\n",
       "      <td>19930105</td>\n",
       "    </tr>\n",
       "    <tr>\n",
       "      <th>2</th>\n",
       "      <td>10104</td>\n",
       "      <td>19930106</td>\n",
       "      <td>ORCL</td>\n",
       "      <td>19930106</td>\n",
       "    </tr>\n",
       "    <tr>\n",
       "      <th>3</th>\n",
       "      <td>10104</td>\n",
       "      <td>19930107</td>\n",
       "      <td>ORCL</td>\n",
       "      <td>19930107</td>\n",
       "    </tr>\n",
       "    <tr>\n",
       "      <th>4</th>\n",
       "      <td>10104</td>\n",
       "      <td>19930108</td>\n",
       "      <td>ORCL</td>\n",
       "      <td>19930108</td>\n",
       "    </tr>\n",
       "  </tbody>\n",
       "</table>\n",
       "</div>"
      ],
      "text/plain": [
       "   PERMNO      date TICKER   enddate\n",
       "0   10104  19930104   ORCL  19930104\n",
       "1   10104  19930105   ORCL  19930105\n",
       "2   10104  19930106   ORCL  19930106\n",
       "3   10104  19930107   ORCL  19930107\n",
       "4   10104  19930108   ORCL  19930108"
      ]
     },
     "execution_count": 47,
     "metadata": {},
     "output_type": "execute_result"
    }
   ],
   "source": [
    "permno_ticker_data.head(5)"
   ]
  },
  {
   "cell_type": "markdown",
   "metadata": {},
   "source": [
    "# 2. Use groupby function to find occurence first and last"
   ]
  },
  {
   "cell_type": "code",
   "execution_count": 48,
   "metadata": {},
   "outputs": [],
   "source": [
    "grouped=permno_ticker_data.groupby(['PERMNO','TICKER'])"
   ]
  },
  {
   "cell_type": "code",
   "execution_count": 53,
   "metadata": {},
   "outputs": [
    {
     "data": {
      "text/html": [
       "<div>\n",
       "<style scoped>\n",
       "    .dataframe tbody tr th:only-of-type {\n",
       "        vertical-align: middle;\n",
       "    }\n",
       "\n",
       "    .dataframe tbody tr th {\n",
       "        vertical-align: top;\n",
       "    }\n",
       "\n",
       "    .dataframe thead th {\n",
       "        text-align: right;\n",
       "    }\n",
       "</style>\n",
       "<table border=\"1\" class=\"dataframe\">\n",
       "  <thead>\n",
       "    <tr style=\"text-align: right;\">\n",
       "      <th></th>\n",
       "      <th></th>\n",
       "      <th>startdate</th>\n",
       "      <th>enddate</th>\n",
       "    </tr>\n",
       "    <tr>\n",
       "      <th>PERMNO</th>\n",
       "      <th>TICKER</th>\n",
       "      <th></th>\n",
       "      <th></th>\n",
       "    </tr>\n",
       "  </thead>\n",
       "  <tbody>\n",
       "    <tr>\n",
       "      <th>10104</th>\n",
       "      <th>ORCL</th>\n",
       "      <td>19930104</td>\n",
       "      <td>20211231</td>\n",
       "    </tr>\n",
       "    <tr>\n",
       "      <th>10107</th>\n",
       "      <th>MSFT</th>\n",
       "      <td>19930104</td>\n",
       "      <td>20211231</td>\n",
       "    </tr>\n",
       "    <tr>\n",
       "      <th rowspan=\"2\" valign=\"top\">10145</th>\n",
       "      <th>ALD</th>\n",
       "      <td>19930104</td>\n",
       "      <td>19991201</td>\n",
       "    </tr>\n",
       "    <tr>\n",
       "      <th>HON</th>\n",
       "      <td>19991202</td>\n",
       "      <td>20211231</td>\n",
       "    </tr>\n",
       "    <tr>\n",
       "      <th>10147</th>\n",
       "      <th>EMC</th>\n",
       "      <td>19930104</td>\n",
       "      <td>20160907</td>\n",
       "    </tr>\n",
       "    <tr>\n",
       "      <th>...</th>\n",
       "      <th>...</th>\n",
       "      <td>...</td>\n",
       "      <td>...</td>\n",
       "    </tr>\n",
       "    <tr>\n",
       "      <th>91233</th>\n",
       "      <th>MA</th>\n",
       "      <td>20060525</td>\n",
       "      <td>20211231</td>\n",
       "    </tr>\n",
       "    <tr>\n",
       "      <th>92156</th>\n",
       "      <th>COV</th>\n",
       "      <td>20070702</td>\n",
       "      <td>20150127</td>\n",
       "    </tr>\n",
       "    <tr>\n",
       "      <th>92602</th>\n",
       "      <th>PM</th>\n",
       "      <td>20080331</td>\n",
       "      <td>20211231</td>\n",
       "    </tr>\n",
       "    <tr>\n",
       "      <th>92611</th>\n",
       "      <th>V</th>\n",
       "      <td>20080319</td>\n",
       "      <td>20211231</td>\n",
       "    </tr>\n",
       "    <tr>\n",
       "      <th>92655</th>\n",
       "      <th>UNH</th>\n",
       "      <td>19930104</td>\n",
       "      <td>20211231</td>\n",
       "    </tr>\n",
       "  </tbody>\n",
       "</table>\n",
       "<p>262 rows × 2 columns</p>\n",
       "</div>"
      ],
      "text/plain": [
       "               startdate   enddate\n",
       "PERMNO TICKER                     \n",
       "10104  ORCL     19930104  20211231\n",
       "10107  MSFT     19930104  20211231\n",
       "10145  ALD      19930104  19991201\n",
       "       HON      19991202  20211231\n",
       "10147  EMC      19930104  20160907\n",
       "...                  ...       ...\n",
       "91233  MA       20060525  20211231\n",
       "92156  COV      20070702  20150127\n",
       "92602  PM       20080331  20211231\n",
       "92611  V        20080319  20211231\n",
       "92655  UNH      19930104  20211231\n",
       "\n",
       "[262 rows x 2 columns]"
      ]
     },
     "execution_count": 53,
     "metadata": {},
     "output_type": "execute_result"
    }
   ],
   "source": [
    "grouped.agg({'date' : 'first', 'enddate' : 'last'}).rename(columns={'date':'startdate'})"
   ]
  },
  {
   "cell_type": "code",
   "execution_count": 54,
   "metadata": {},
   "outputs": [],
   "source": [
    "grouped.agg({'date' : 'first', 'enddate' : 'last'}).rename(columns={'date':'startdate'}).to_csv('permno_ticker_match.csv')"
   ]
  },
  {
   "cell_type": "code",
   "execution_count": null,
   "metadata": {},
   "outputs": [],
   "source": []
  }
 ],
 "metadata": {
  "kernelspec": {
   "display_name": "Python 3",
   "language": "python",
   "name": "python3"
  },
  "language_info": {
   "codemirror_mode": {
    "name": "ipython",
    "version": 3
   },
   "file_extension": ".py",
   "mimetype": "text/x-python",
   "name": "python",
   "nbconvert_exporter": "python",
   "pygments_lexer": "ipython3",
   "version": "3.8.0"
  }
 },
 "nbformat": 4,
 "nbformat_minor": 4
}
